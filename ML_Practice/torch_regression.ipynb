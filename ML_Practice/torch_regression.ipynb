{
  "nbformat": 4,
  "nbformat_minor": 0,
  "metadata": {
    "colab": {
      "name": "torch_regression",
      "provenance": [],
      "authorship_tag": "ABX9TyNnq3YYgbu2BwNgU80KpdwD",
      "include_colab_link": true
    },
    "kernelspec": {
      "name": "python3",
      "display_name": "Python 3"
    }
  },
  "cells": [
    {
      "cell_type": "markdown",
      "metadata": {
        "id": "view-in-github",
        "colab_type": "text"
      },
      "source": [
        "<a href=\"https://colab.research.google.com/github/coleterrell97/portfolio/blob/master/ML_Practice/torch_regression.ipynb\" target=\"_parent\"><img src=\"https://colab.research.google.com/assets/colab-badge.svg\" alt=\"Open In Colab\"/></a>"
      ]
    },
    {
      "cell_type": "code",
      "metadata": {
        "colab": {
          "base_uri": "https://localhost:8080/"
        },
        "id": "Ih6siNzSRzkW",
        "outputId": "e4530187-bdc9-4767-bc8d-4d1c9c6f78ea"
      },
      "source": [
        "import torch\r\n",
        "from torch.nn import Linear\r\n",
        "from torch.nn import functional as F\r\n",
        "import pandas as pd\r\n",
        "import numpy as np\r\n",
        "from torch.utils.data import TensorDataset, DataLoader\r\n",
        "torch.autograd.set_detect_anomaly(False)"
      ],
      "execution_count": 321,
      "outputs": [
        {
          "output_type": "execute_result",
          "data": {
            "text/plain": [
              "<torch.autograd.anomaly_mode.set_detect_anomaly at 0x7fc9e7676b70>"
            ]
          },
          "metadata": {
            "tags": []
          },
          "execution_count": 321
        }
      ]
    },
    {
      "cell_type": "code",
      "metadata": {
        "id": "uauiHbP6SNDj"
      },
      "source": [
        "train_data = pd.read_csv(\"train.csv\").to_numpy(dtype=\"float32\")\r\n",
        "test_data = pd.read_csv(\"test.csv\").to_numpy(dtype=\"float32\")\r\n",
        "\r\n",
        "train_features = torch.from_numpy(train_data[:, 0].reshape(700,1))\r\n",
        "train_features = (train_features - torch.mean(train_features)) / (torch.std(train_features))\r\n",
        "train_labels = torch.from_numpy(train_data[:, 1].reshape(700,1))\r\n",
        "train_ds = TensorDataset(train_features, train_labels)\r\n",
        "\r\n",
        "test_features = torch.from_numpy(test_data[:, 0].reshape(300,1))\r\n",
        "test_features = (test_features - torch.mean(test_features)) / (torch.std(test_features))\r\n",
        "test_labels = torch.from_numpy(test_data[:, 1].reshape(300,1))\r\n",
        "test_ds = TensorDataset(test_features, test_labels)"
      ],
      "execution_count": 322,
      "outputs": []
    },
    {
      "cell_type": "code",
      "metadata": {
        "id": "YqsttjwpUwL7"
      },
      "source": [
        "train_dl = DataLoader(train_ds, batch_size = 32, shuffle = True)\r\n",
        "test_dl = DataLoader(test_ds, batch_size = 32, shuffle = True)"
      ],
      "execution_count": 323,
      "outputs": []
    },
    {
      "cell_type": "code",
      "metadata": {
        "id": "ESRR_E7qSdmC"
      },
      "source": [
        "model = Linear(1,1)\r\n",
        "mse = F.mse_loss\r\n",
        "optimizer = torch.optim.SGD(model.parameters(), lr = 1e-03)"
      ],
      "execution_count": 324,
      "outputs": []
    },
    {
      "cell_type": "code",
      "metadata": {
        "id": "aBny0o4UVwgE"
      },
      "source": [
        "def fit(epochs, dl, loss_fn, opt, model):\r\n",
        "  for num_epochs in range(epochs):\r\n",
        "    for xb, yb in dl:\r\n",
        "      prediction = model(xb)\r\n",
        "      loss = loss_fn(prediction, yb)\r\n",
        "      loss.backward()\r\n",
        "      opt.step()\r\n",
        "      opt.zero_grad()\r\n",
        "\r\n"
      ],
      "execution_count": 325,
      "outputs": []
    },
    {
      "cell_type": "code",
      "metadata": {
        "id": "qFFiyyNVWQK-"
      },
      "source": [
        "fit(100, train_dl, mse, optimizer, model)\r\n"
      ],
      "execution_count": 326,
      "outputs": []
    },
    {
      "cell_type": "code",
      "metadata": {
        "id": "UVimlW_xoAYO"
      },
      "source": [
        "def test(examples, labels, loss_fn, model):\r\n",
        "  predictions = model(examples)\r\n",
        "  loss = loss_fn(predictions, labels)\r\n",
        "  print(loss)"
      ],
      "execution_count": 330,
      "outputs": []
    },
    {
      "cell_type": "code",
      "metadata": {
        "colab": {
          "base_uri": "https://localhost:8080/"
        },
        "id": "C7Pet3wopP-t",
        "outputId": "64b6d1e1-521e-46cf-bd27-9bba960ee0d3"
      },
      "source": [
        "test(test_features, test_labels, mse, model)"
      ],
      "execution_count": 331,
      "outputs": [
        {
          "output_type": "stream",
          "text": [
            "tensor(12.9052, grad_fn=<MseLossBackward>)\n"
          ],
          "name": "stdout"
        }
      ]
    }
  ]
}