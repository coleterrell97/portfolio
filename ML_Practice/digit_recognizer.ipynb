{
  "nbformat": 4,
  "nbformat_minor": 0,
  "metadata": {
    "colab": {
      "name": "digit_recognizer",
      "provenance": [],
      "collapsed_sections": [],
      "authorship_tag": "ABX9TyNOeTSr2HK0JKLr+ENXQBcB",
      "include_colab_link": true
    },
    "kernelspec": {
      "name": "python3",
      "display_name": "Python 3"
    }
  },
  "cells": [
    {
      "cell_type": "markdown",
      "metadata": {
        "id": "view-in-github",
        "colab_type": "text"
      },
      "source": [
        "<a href=\"https://colab.research.google.com/github/coleterrell97/portfolio/blob/master/ML_Practice/digit_recognizer.ipynb\" target=\"_parent\"><img src=\"https://colab.research.google.com/assets/colab-badge.svg\" alt=\"Open In Colab\"/></a>"
      ]
    },
    {
      "cell_type": "code",
      "metadata": {
        "id": "AvPlcohSxCPR"
      },
      "source": [
        "import torch\n",
        "from torch import nn\n",
        "from torch.utils.data import DataLoader, TensorDataset\n",
        "import torch.nn.functional as F\n",
        "import pandas as pd\n",
        "import numpy as np\n",
        "import torch.optim as O\n",
        "from google.colab.patches import cv2_imshow\n",
        "EPOCHS = 1000"
      ],
      "execution_count": null,
      "outputs": []
    },
    {
      "cell_type": "code",
      "metadata": {
        "id": "zD-K-t9RD0HB"
      },
      "source": [
        "def reshape_labels(labels):\n",
        "\n",
        "  a = labels.numpy()\n",
        "  b = np.zeros((a.size, int(a.max()+1)))\n",
        "  b[np.arange(a.size),a.astype(\"int\")] = 1\n",
        "  return b.astype(\"float32\")"
      ],
      "execution_count": null,
      "outputs": []
    },
    {
      "cell_type": "code",
      "metadata": {
        "id": "lvL6jFslxsJk"
      },
      "source": [
        "df = pd.read_csv(\"train.csv\")\n",
        "train_data_np = df.to_numpy(dtype=\"float32\")\n",
        "train_data = torch.from_numpy(train_data_np)\n",
        "features = train_data[:,1:]\n",
        "labels = train_data[:,0].type(torch.LongTensor)\n",
        "# labels = torch.from_numpy(reshape_labels(train_data[:,0]))\n",
        "train_ds = TensorDataset(features, labels)\n",
        "train_dl = DataLoader(train_ds, batch_size=2048, shuffle=True)\n"
      ],
      "execution_count": null,
      "outputs": []
    },
    {
      "cell_type": "code",
      "metadata": {
        "id": "R5hhid2Zyzr7"
      },
      "source": [
        "class Net(nn.Module):\n",
        "  def __init__(self, inputs, hidden_layer_size, outputs):\n",
        "    super(Net, self).__init__()\n",
        "    self.input_layer = nn.Linear(inputs,hidden_layer_size)\n",
        "    self.hidden_layer = nn.Linear(hidden_layer_size, outputs)\n",
        "\n",
        "  def forward(self, x):\n",
        "    x = F.relu(self.input_layer(x))\n",
        "    x = self.hidden_layer(x)\n",
        "    return x"
      ],
      "execution_count": null,
      "outputs": []
    },
    {
      "cell_type": "code",
      "metadata": {
        "id": "IstNWKTJ1h6m"
      },
      "source": [
        "digit_recognizer = Net(784, 200, 10)"
      ],
      "execution_count": null,
      "outputs": []
    },
    {
      "cell_type": "code",
      "metadata": {
        "id": "aQ3AFoWg5oKg"
      },
      "source": [
        "loss_fn = F.cross_entropy\n",
        "optimizer = O.SGD(digit_recognizer.parameters(), lr=1e-04)"
      ],
      "execution_count": null,
      "outputs": []
    },
    {
      "cell_type": "code",
      "metadata": {
        "id": "QExr09s56Lfv"
      },
      "source": [
        "def fit(epochs, dl, model, loss_fn, opt):\n",
        "  loss = 0\n",
        "  for epoch in range(epochs):\n",
        "    for xb, yb in dl:\n",
        "      predictions = model(xb)\n",
        "      loss = loss_fn(predictions,yb)\n",
        "      loss.backward()\n",
        "      opt.step()\n",
        "      opt.zero_grad()\n",
        "  print(loss)"
      ],
      "execution_count": null,
      "outputs": []
    },
    {
      "cell_type": "code",
      "metadata": {
        "colab": {
          "base_uri": "https://localhost:8080/"
        },
        "id": "VN6lUuNP6naH",
        "outputId": "8ca1518d-a6cc-4bb4-f23e-8765c9095a08"
      },
      "source": [
        "fit(EPOCHS, train_dl, digit_recognizer, loss_fn, optimizer)\n",
        "\n"
      ],
      "execution_count": null,
      "outputs": [
        {
          "output_type": "stream",
          "text": [
            "tensor(0.0275, grad_fn=<NllLossBackward>)\n"
          ],
          "name": "stdout"
        }
      ]
    },
    {
      "cell_type": "code",
      "metadata": {
        "id": "KIwuh2poV8Is"
      },
      "source": [
        "df = pd.read_csv(\"test.csv\")\n",
        "test_data_np = df.to_numpy(dtype=\"float32\")\n",
        "test_data = torch.from_numpy(test_data_np)"
      ],
      "execution_count": null,
      "outputs": []
    },
    {
      "cell_type": "code",
      "metadata": {
        "id": "Fmg2zcCugvV7"
      },
      "source": [
        "predictions = F.softmax(digit_recognizer(test_data), dim=1)\n",
        "probs, predictions = torch.max(predictions, dim=1)\n",
        "for prediction_index in range(len(predictions)):\n",
        "  cv2_imshow(test_data[prediction_index].numpy().reshape(28,28))\n",
        "  print(predictions[prediction_index])\n"
      ],
      "execution_count": null,
      "outputs": []
    }
  ]
}